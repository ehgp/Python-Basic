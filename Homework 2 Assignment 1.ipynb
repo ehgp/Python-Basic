{
 "cells": [
  {
   "cell_type": "code",
   "execution_count": 6,
   "metadata": {},
   "outputs": [
    {
     "name": "stdout",
     "output_type": "stream",
     "text": [
      " python is awesome \n",
      "The number of words are: \n",
      "3\n",
      "The number of characters are: \n",
      "19\n"
     ]
    }
   ],
   "source": [
    "import re\n",
    "word = input()\n",
    "def my_func(word):\n",
    "    word_count= len(re.findall(r'\\w+', word))\n",
    "    char_count= len(word)\n",
    "    print(\"The number of words are: \",word_count,\"The number of characters are: \",char_count,sep=\"\\n\")\n",
    "my_func(word)"
   ]
  },
  {
   "cell_type": "code",
   "execution_count": 7,
   "metadata": {},
   "outputs": [
    {
     "name": "stdout",
     "output_type": "stream",
     "text": [
      "Please give me a word: word\n",
      "The number of words are: \n",
      "1\n",
      "The number of characters are: \n",
      "4\n"
     ]
    }
   ],
   "source": [
    "import re\n",
    "word = input(\"Please give me a word: \")\n",
    "def my_func(word):\n",
    "    word_count= len(re.findall(r'\\w+', word))\n",
    "    char_count= len(word)\n",
    "    print(\"The number of words are: \",word_count,\"The number of characters are: \",char_count,sep=\"\\n\")\n",
    "my_func(word)"
   ]
  },
  {
   "cell_type": "code",
   "execution_count": 1,
   "metadata": {},
   "outputs": [
    {
     "name": "stdout",
     "output_type": "stream",
     "text": [
      "Please give me a word: word      word\n",
      "The number of words are: \n",
      "2\n",
      "The number of characters are: \n",
      "14\n"
     ]
    }
   ],
   "source": [
    "import re\n",
    "word = input(\"Please give me a word: \")\n",
    "def my_func(word):\n",
    "    word_count= len(re.findall(r'\\w+', word))\n",
    "    char_count= len(word)\n",
    "    print(\"The number of words are: \",word_count,\"The number of characters are: \",char_count,sep=\"\\n\")\n",
    "my_func(word)"
   ]
  },
  {
   "cell_type": "code",
   "execution_count": null,
   "metadata": {},
   "outputs": [],
   "source": []
  }
 ],
 "metadata": {
  "kernelspec": {
   "display_name": "Python 3",
   "language": "python",
   "name": "python3"
  },
  "language_info": {
   "codemirror_mode": {
    "name": "ipython",
    "version": 3
   },
   "file_extension": ".py",
   "mimetype": "text/x-python",
   "name": "python",
   "nbconvert_exporter": "python",
   "pygments_lexer": "ipython3",
   "version": "3.7.3"
  }
 },
 "nbformat": 4,
 "nbformat_minor": 2
}
